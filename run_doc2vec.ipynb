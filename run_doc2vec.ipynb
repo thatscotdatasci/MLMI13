{
 "cells": [
  {
   "cell_type": "code",
   "execution_count": 1,
   "metadata": {},
   "outputs": [],
   "source": [
    "# %load_ext autoreload\n",
    "# %autoreload 2"
   ]
  },
  {
   "cell_type": "code",
   "execution_count": 95,
   "metadata": {},
   "outputs": [],
   "source": [
    "import os\n",
    "import pickle\n",
    "from glob import glob\n",
    "import logging\n",
    "\n",
    "import numpy as np\n",
    "import pandas as pd\n",
    "import seaborn as sns\n",
    "import plotly.express as px\n",
    "import matplotlib.pyplot as plt\n",
    "from nltk.tokenize import word_tokenize\n",
    "from sklearn.svm import SVC\n",
    "from sklearn.decomposition import PCA\n",
    "from sklearn.manifold import TSNE\n",
    "from sklearn.model_selection import cross_val_score, GridSearchCV\n",
    "from gensim.models import Word2Vec, Doc2Vec\n",
    "# import tensorflow as tf\n",
    "\n",
    "from Doc2Vec import Doc2Vec, GensimSVMSklearn\n",
    "from Constants import SENTIMENTS, TRAINING_DATA, TESTING_DATA"
   ]
  },
  {
   "cell_type": "code",
   "execution_count": 3,
   "metadata": {},
   "outputs": [],
   "source": [
    "logging.basicConfig(format='%(asctime)s : %(levelname)s : %(message)s', level=logging.INFO)\n",
    "logger = logging.getLogger(__name__)"
   ]
  },
  {
   "cell_type": "code",
   "execution_count": 4,
   "metadata": {},
   "outputs": [],
   "source": [
    "# with open('d2v_gs/d2v_gs_sc_sc_epoch_vs_search.pkl', 'rb') as f:\n",
    "#     d2v_gs = pickle.load(f)"
   ]
  },
  {
   "cell_type": "code",
   "execution_count": 5,
   "metadata": {},
   "outputs": [],
   "source": [
    "# pd.DataFrame(d2v_gs.gs.cv_results_).to_csv('d2v_gs/d2v_gs_sc_sc_epoch_vs_search_results.csv')"
   ]
  },
  {
   "cell_type": "markdown",
   "metadata": {},
   "source": [
    "# Data Load"
   ]
  },
  {
   "cell_type": "code",
   "execution_count": 6,
   "metadata": {},
   "outputs": [],
   "source": [
    "#####################\n",
    "# Original review data\n",
    "#####################\n",
    "og_base_dir = os.path.join('data', 'reviews')\n",
    "og_pos_dir = os.path.join(og_base_dir, 'POS')\n",
    "og_neg_dir = os.path.join(og_base_dir, 'NEG')\n",
    "\n",
    "og_training_pos_files = glob(os.path.join(og_pos_dir, 'cv[0-8]*.txt'))\n",
    "og_training_neg_files = glob(os.path.join(og_neg_dir, 'cv[0-8]*.txt'))\n",
    "\n",
    "og_testing_pos_files = glob(os.path.join(og_pos_dir, 'cv9*.txt'))\n",
    "og_testing_neg_files = glob(os.path.join(og_neg_dir, 'cv9*.txt'))\n",
    "\n",
    "og_y_train = np.array([\n",
    "    *[SENTIMENTS.pos.review_label]*len(og_training_pos_files),\n",
    "    *[SENTIMENTS.neg.review_label]*len(og_training_neg_files)\n",
    "])\n",
    "og_y_test = np.array([\n",
    "    *[SENTIMENTS.pos.review_label]*len(og_testing_pos_files),\n",
    "    *[SENTIMENTS.neg.review_label]*len(og_testing_neg_files)\n",
    "])\n",
    "\n",
    "# d2v_training_files = [\n",
    "#     *training_pos_files,\n",
    "#     *training_neg_files,\n",
    "#     *testing_pos_files,\n",
    "#     *testing_neg_files\n",
    "# ]\n",
    "# d2v_testing_files = []\n",
    "\n",
    "# gensim_sklearn = GensimSVMSklearn(\n",
    "#     d2v_training_files=d2v_training_files,\n",
    "#     d2v_epochs=100,\n",
    "#     d2v_infer_epochs=50,\n",
    "#     d2v_min_count=5,\n",
    "#     d2v_vector_size=50,\n",
    "#     d2v_window=5,\n",
    "#     d2v_dm=0,\n",
    "#     d2v_dm_concat=0,\n",
    "#     d2v_dbow_words=1\n",
    "# )"
   ]
  },
  {
   "cell_type": "code",
   "execution_count": 7,
   "metadata": {},
   "outputs": [],
   "source": [
    "###########\n",
    "# IMDB data\n",
    "###########\n",
    "imdb_base_dir = 'imdb'\n",
    "imdb_pos_dir = 'pos'\n",
    "imdb_neg_dir = 'neg'\n",
    "imdb_unsup_dir = 'unsup'\n",
    "\n",
    "imdb_train_dir = os.path.join(imdb_base_dir, 'train')\n",
    "imdb_train_pos_dir = os.path.join(imdb_train_dir, imdb_pos_dir)\n",
    "imdb_train_neg_dir = os.path.join(imdb_train_dir, imdb_neg_dir)\n",
    "\n",
    "imdb_test_dir = os.path.join(imdb_base_dir, 'train')\n",
    "imdb_test_pos_dir = os.path.join(imdb_test_dir, imdb_pos_dir)\n",
    "imdb_test_neg_dir = os.path.join(imdb_test_dir, imdb_neg_dir)\n",
    "\n",
    "imdb_training_pos_files = glob(os.path.join(imdb_train_pos_dir, '*.txt'))\n",
    "imdb_training_neg_files = glob(os.path.join(imdb_train_neg_dir, '*.txt'))\n",
    "\n",
    "imdb_testing_pos_files = glob(os.path.join(imdb_test_pos_dir, '*.txt'))\n",
    "imdb_testing_neg_files = glob(os.path.join(imdb_test_neg_dir, '*.txt'))\n",
    "\n",
    "imdb_unsup_files = glob(os.path.join(imdb_base_dir, imdb_train_dir, imdb_unsup_dir, '*.txt'))\n",
    "\n",
    "imdb_y_train = np.array([\n",
    "    *[SENTIMENTS.pos.review_label]*len(imdb_training_pos_files),\n",
    "    *[SENTIMENTS.neg.review_label]*len(imdb_training_neg_files)\n",
    "])\n",
    "imdb_y_test = np.array([\n",
    "    *[SENTIMENTS.pos.review_label]*len(imdb_testing_pos_files),\n",
    "    *[SENTIMENTS.neg.review_label]*len(imdb_testing_neg_files)\n",
    "])\n",
    "\n",
    "d2v_training_files = [\n",
    "    *imdb_training_pos_files,\n",
    "    *imdb_training_neg_files,\n",
    "    *imdb_testing_pos_files,\n",
    "    *imdb_testing_neg_files,\n",
    "    *imdb_unsup_files\n",
    "]\n",
    "d2v_testing_files = []"
   ]
  },
  {
   "cell_type": "markdown",
   "metadata": {},
   "source": [
    "# Sklearn Pipeline with Gensim"
   ]
  },
  {
   "cell_type": "markdown",
   "metadata": {},
   "source": [
    "# Load Previous Results"
   ]
  },
  {
   "cell_type": "code",
   "execution_count": 10,
   "metadata": {},
   "outputs": [],
   "source": [
    "with open('d2v_models/d2v_imdb_1.pkl', 'rb') as f:\n",
    "    gensim_sklearn = pickle.load(f)"
   ]
  },
  {
   "cell_type": "markdown",
   "metadata": {},
   "source": [
    "# Sklearn Pipeline with Gensim"
   ]
  },
  {
   "cell_type": "code",
   "execution_count": 11,
   "metadata": {},
   "outputs": [],
   "source": [
    "# gensim_sklearn = GensimSVMSklearn(\n",
    "#     d2v_training_files=d2v_training_files,\n",
    "#     d2v_epochs=100,\n",
    "#     d2v_infer_epochs=50,\n",
    "#     d2v_min_count=5,\n",
    "#     d2v_vector_size=50,\n",
    "#     d2v_window=5,\n",
    "#     d2v_dm=0,\n",
    "#     d2v_dm_concat=0,\n",
    "#     d2v_dbow_words=1\n",
    "# )"
   ]
  },
  {
   "cell_type": "code",
   "execution_count": 12,
   "metadata": {},
   "outputs": [],
   "source": [
    "# gensim_sklearn.train([*og_training_pos_files, *og_training_neg_files], og_y_train)"
   ]
  },
  {
   "cell_type": "code",
   "execution_count": 13,
   "metadata": {},
   "outputs": [
    {
     "name": "stdout",
     "output_type": "stream",
     "text": [
      "0.9377777777777778\n"
     ]
    }
   ],
   "source": [
    "gensim_sklearn.test([*og_training_pos_files, *og_training_neg_files], og_y_train)"
   ]
  },
  {
   "cell_type": "code",
   "execution_count": 14,
   "metadata": {},
   "outputs": [
    {
     "name": "stdout",
     "output_type": "stream",
     "text": [
      "0.895\n"
     ]
    }
   ],
   "source": [
    "gensim_sklearn.test([*og_testing_pos_files, *og_testing_neg_files], og_y_test)"
   ]
  },
  {
   "cell_type": "markdown",
   "metadata": {},
   "source": [
    "## Cross Validation"
   ]
  },
  {
   "cell_type": "code",
   "execution_count": 16,
   "metadata": {},
   "outputs": [],
   "source": [
    "# gensim_sklearn.cross_validate([*training_pos_files, *training_neg_files], y_train, folds=10)"
   ]
  },
  {
   "cell_type": "markdown",
   "metadata": {},
   "source": [
    "## Grid Search"
   ]
  },
  {
   "cell_type": "code",
   "execution_count": 48,
   "metadata": {},
   "outputs": [],
   "source": [
    "# gs_params = {\n",
    "#     'doc2vec__epochs': (100,),\n",
    "#     'doc2vec__infer_epochs': (50,),\n",
    "#     'doc2vec__vector_size': (50,100,200), \n",
    "#     'doc2vec__dm': (0,1),\n",
    "#     'doc2vec__dm_concat': (0,1),\n",
    "#     'doc2vec__dbow_words': (1,),\n",
    "#     'doc2vec__window': (5,10,15),\n",
    "#     'doc2vec__min_count': (5,)\n",
    "# }\n",
    "# gensim_sklearn = GensimSVMSklearn(d2v_training_files=d2v_training_files)\n",
    "# gensim_sklearn.grid_search([*training_pos_files, *training_neg_files], y_train, gs_params)"
   ]
  },
  {
   "cell_type": "code",
   "execution_count": null,
   "metadata": {},
   "outputs": [],
   "source": [
    "# pd.DataFrame(gensim_sklearn.gs.cv_results_).to_json()"
   ]
  },
  {
   "cell_type": "code",
   "execution_count": null,
   "metadata": {},
   "outputs": [],
   "source": [
    "# gensim_sklearn.gs.best_params_"
   ]
  },
  {
   "cell_type": "code",
   "execution_count": null,
   "metadata": {},
   "outputs": [],
   "source": [
    "# gensim_sklearn.gs.best_score_"
   ]
  },
  {
   "cell_type": "code",
   "execution_count": null,
   "metadata": {},
   "outputs": [],
   "source": [
    "# gensim_sklearn.pipeline.named_steps['doc2vec'].model.save('doc2vec_model.gensim')"
   ]
  },
  {
   "cell_type": "markdown",
   "metadata": {},
   "source": [
    "# Save Results"
   ]
  },
  {
   "cell_type": "code",
   "execution_count": 58,
   "metadata": {},
   "outputs": [],
   "source": [
    "# with open('d2v_models/d2v_imdb_1.pkl', 'wb') as f:\n",
    "#     pickle.dump(gensim_sklearn, f)"
   ]
  },
  {
   "cell_type": "code",
   "execution_count": 59,
   "metadata": {},
   "outputs": [],
   "source": [
    "# gensim_sklearn.pipeline.named_steps['doc2vec'].model.save('d2v_models/d2v_imdb_1.gensim')"
   ]
  },
  {
   "cell_type": "markdown",
   "metadata": {},
   "source": [
    "## Generate Embeddings"
   ]
  },
  {
   "cell_type": "code",
   "execution_count": 10,
   "metadata": {},
   "outputs": [],
   "source": [
    "og_training_pos_embeddings = gensim_sklearn.pipeline.named_steps['doc2vec'].transform(og_training_pos_files)\n",
    "og_training_neg_embeddings = gensim_sklearn.pipeline.named_steps['doc2vec'].transform(og_training_neg_files)\n",
    "og_testing_pos_embeddings = gensim_sklearn.pipeline.named_steps['doc2vec'].transform(og_testing_pos_files)\n",
    "og_testing_neg_embeddings = gensim_sklearn.pipeline.named_steps['doc2vec'].transform(og_testing_neg_files)"
   ]
  },
  {
   "cell_type": "code",
   "execution_count": 11,
   "metadata": {},
   "outputs": [
    {
     "data": {
      "text/plain": [
       "((1800, 50), (200, 50))"
      ]
     },
     "execution_count": 11,
     "metadata": {},
     "output_type": "execute_result"
    }
   ],
   "source": [
    "og_X_train = np.vstack((og_training_pos_embeddings, og_training_neg_embeddings))\n",
    "og_X_test = np.vstack((og_testing_pos_embeddings, og_testing_neg_embeddings))\n",
    "og_X_train.shape, og_X_test.shape"
   ]
  },
  {
   "cell_type": "code",
   "execution_count": 125,
   "metadata": {},
   "outputs": [],
   "source": [
    "imdb_training_pos_embeddings = gensim_sklearn.pipeline.named_steps['doc2vec'].transform(imdb_training_pos_files)\n",
    "imdb_training_neg_embeddings = gensim_sklearn.pipeline.named_steps['doc2vec'].transform(imdb_training_neg_files)\n",
    "imdb_testing_pos_embeddings = gensim_sklearn.pipeline.named_steps['doc2vec'].transform(imdb_testing_pos_files)\n",
    "imdb_testing_neg_embeddings = gensim_sklearn.pipeline.named_steps['doc2vec'].transform(imdb_testing_neg_files)"
   ]
  },
  {
   "cell_type": "code",
   "execution_count": 126,
   "metadata": {},
   "outputs": [
    {
     "data": {
      "text/plain": [
       "((25000, 50), (25000, 50))"
      ]
     },
     "execution_count": 126,
     "metadata": {},
     "output_type": "execute_result"
    }
   ],
   "source": [
    "imdb_X_train = np.vstack((imdb_training_pos_embeddings, imdb_training_neg_embeddings))\n",
    "imdb_X_test = np.vstack((imdb_testing_pos_embeddings, imdb_testing_neg_embeddings))\n",
    "imdb_X_train.shape, imdb_X_test.shape"
   ]
  },
  {
   "cell_type": "markdown",
   "metadata": {},
   "source": [
    "# SVC"
   ]
  },
  {
   "cell_type": "markdown",
   "metadata": {},
   "source": [
    "## OG"
   ]
  },
  {
   "cell_type": "code",
   "execution_count": 12,
   "metadata": {},
   "outputs": [
    {
     "name": "stderr",
     "output_type": "stream",
     "text": [
      "2021-12-02 17:58:44,551 : INFO : Training SVM with embeddings\n"
     ]
    },
    {
     "data": {
      "text/plain": [
       "SVC()"
      ]
     },
     "execution_count": 12,
     "metadata": {},
     "output_type": "execute_result"
    }
   ],
   "source": [
    "logger.info('Training SVM with embeddings')\n",
    "svm = SVC()\n",
    "svm.fit(og_X_train, og_y_train)"
   ]
  },
  {
   "cell_type": "code",
   "execution_count": 13,
   "metadata": {},
   "outputs": [
    {
     "name": "stderr",
     "output_type": "stream",
     "text": [
      "2021-12-02 17:58:47,668 : INFO : Testing SVM with embeddings\n"
     ]
    }
   ],
   "source": [
    "logger.info('Testing SVM with embeddings')\n",
    "# svm.cross_validate(og_X_train, og_y_train, folds=10)\n",
    "og_train_predict = svm.predict(og_X_train)\n",
    "og_test_predict = svm.predict(og_X_test)"
   ]
  },
  {
   "cell_type": "code",
   "execution_count": 14,
   "metadata": {},
   "outputs": [
    {
     "data": {
      "text/plain": [
       "(0.9366666666666666, 0.9)"
      ]
     },
     "execution_count": 14,
     "metadata": {},
     "output_type": "execute_result"
    }
   ],
   "source": [
    "svm.score(og_X_train, og_y_train), svm.score(og_X_test, og_y_test)"
   ]
  },
  {
   "cell_type": "code",
   "execution_count": null,
   "metadata": {},
   "outputs": [],
   "source": [
    "# logger.info('Training SVM with pipeline embeddings')\n",
    "# svm = SVC()\n",
    "# svm.train(pipeline_X_train, y_train)\n",
    "\n",
    "# logger.info('Testing SVM with pipeline embeddings')\n",
    "# svm.cross_validate(pipeline_X_train, y_train, folds=10)\n",
    "# svm.test(pipeline_X_train, y_train)\n",
    "# svm.test(pipeline_X_test, y_test)"
   ]
  },
  {
   "cell_type": "code",
   "execution_count": 15,
   "metadata": {},
   "outputs": [
    {
     "data": {
      "text/plain": [
       "array([0.83888889, 0.85      , 0.86666667, 0.81111111, 0.80555556,\n",
       "       0.87777778, 0.88888889, 0.83888889, 0.85555556, 0.84444444])"
      ]
     },
     "execution_count": 15,
     "metadata": {},
     "output_type": "execute_result"
    }
   ],
   "source": [
    "cross_val_score(svm, og_X_train, og_y_train, cv=10)"
   ]
  },
  {
   "cell_type": "code",
   "execution_count": 16,
   "metadata": {},
   "outputs": [
    {
     "data": {
      "text/plain": [
       "GridSearchCV(cv=10, estimator=SVC(), n_jobs=-1,\n",
       "             param_grid={'C': array([0.2, 0.6, 1. , 1.4, 1.8, 2.2, 2.6, 3. , 3.4, 3.8, 4.2, 4.6, 5. ,\n",
       "       5.4, 5.8, 6.2, 6.6, 7. , 7.4, 7.8, 8.2, 8.6, 9. , 9.4, 9.8]),\n",
       "                         'kernel': ['linear', 'poly', 'rbf', 'sigmoid']})"
      ]
     },
     "execution_count": 16,
     "metadata": {},
     "output_type": "execute_result"
    }
   ],
   "source": [
    "svm_gs_params = {\n",
    "    \"C\": np.arange(0.2, 10.2, 0.4),\n",
    "    \"kernel\": [\"linear\", \"poly\", \"rbf\", \"sigmoid\"]\n",
    "}\n",
    "grid_search = GridSearchCV(SVC(), svm_gs_params, n_jobs=-1, cv=10)\n",
    "grid_search.fit(og_X_train, og_y_train)"
   ]
  },
  {
   "cell_type": "code",
   "execution_count": 17,
   "metadata": {},
   "outputs": [
    {
     "data": {
      "text/plain": [
       "(0.8538888888888889, {'C': 0.6000000000000001, 'kernel': 'rbf'})"
      ]
     },
     "execution_count": 17,
     "metadata": {},
     "output_type": "execute_result"
    }
   ],
   "source": [
    "grid_search.best_score_, grid_search.best_params_"
   ]
  },
  {
   "cell_type": "code",
   "execution_count": 18,
   "metadata": {},
   "outputs": [
    {
     "data": {
      "text/plain": [
       "(0.9194444444444444, 0.89)"
      ]
     },
     "execution_count": 18,
     "metadata": {},
     "output_type": "execute_result"
    }
   ],
   "source": [
    "svm = SVC(**grid_search.best_params_)\n",
    "svm.fit(og_X_train, og_y_train)\n",
    "svm.score(og_X_train, og_y_train), svm.score(og_X_test, og_y_test)"
   ]
  },
  {
   "cell_type": "markdown",
   "metadata": {},
   "source": [
    "## IMDB"
   ]
  },
  {
   "cell_type": "code",
   "execution_count": 127,
   "metadata": {},
   "outputs": [
    {
     "name": "stderr",
     "output_type": "stream",
     "text": [
      "2021-11-30 20:02:52,121 : INFO : Training SVM with embeddings\n"
     ]
    },
    {
     "data": {
      "text/plain": [
       "SVC()"
      ]
     },
     "execution_count": 127,
     "metadata": {},
     "output_type": "execute_result"
    }
   ],
   "source": [
    "logger.info('Training SVM with embeddings')\n",
    "svm = SVC()\n",
    "svm.fit(imdb_X_train, imdb_y_train)"
   ]
  },
  {
   "cell_type": "code",
   "execution_count": 128,
   "metadata": {},
   "outputs": [
    {
     "name": "stderr",
     "output_type": "stream",
     "text": [
      "2021-11-30 20:03:21,619 : INFO : Testing SVM with embeddings\n"
     ]
    }
   ],
   "source": [
    "logger.info('Testing SVM with embeddings')\n",
    "imdb_train_predict = svm.predict(imdb_X_train)\n",
    "imdb_test_predict = svm.predict(imdb_X_test)"
   ]
  },
  {
   "cell_type": "code",
   "execution_count": 129,
   "metadata": {},
   "outputs": [
    {
     "data": {
      "text/plain": [
       "(0.95008, 0.94992)"
      ]
     },
     "execution_count": 129,
     "metadata": {},
     "output_type": "execute_result"
    }
   ],
   "source": [
    "svm.score(imdb_X_train, imdb_y_train), svm.score(imdb_X_test, imdb_y_test)"
   ]
  },
  {
   "cell_type": "code",
   "execution_count": 132,
   "metadata": {},
   "outputs": [
    {
     "data": {
      "text/plain": [
       "array([0.8988, 0.922 , 0.914 , 0.9256, 0.9376, 0.9232, 0.9108, 0.9164,\n",
       "       0.9124, 0.8928])"
      ]
     },
     "execution_count": 132,
     "metadata": {},
     "output_type": "execute_result"
    }
   ],
   "source": [
    "cross_val_score(svm, imdb_X_train, imdb_y_train, cv=10)"
   ]
  },
  {
   "cell_type": "markdown",
   "metadata": {},
   "source": [
    "# Existing Word Embeddings"
   ]
  },
  {
   "cell_type": "code",
   "execution_count": 108,
   "metadata": {},
   "outputs": [],
   "source": [
    "# wiki_sg = Doc2Vec.load(os.path.join('wiki_sg', 'word2vec.bin'))\n",
    "# wiki_sg"
   ]
  },
  {
   "cell_type": "markdown",
   "metadata": {},
   "source": [
    "# Original Methods"
   ]
  },
  {
   "cell_type": "code",
   "execution_count": 109,
   "metadata": {},
   "outputs": [],
   "source": [
    "# #########\n",
    "# # Doc2Vec\n",
    "# #########\n",
    "\n",
    "# use_d2v_pickle = False\n",
    "# d2v_pickle_name = 'doc2vec_model.pkl'\n",
    "\n",
    "# if use_d2v_pickle and os.path.isfile(d2v_pickle_name):\n",
    "#     logger.info('Loading pickled d2v model')\n",
    "#     with open(d2v_pickle_name, 'rb') as f:\n",
    "#         d2v = pickle.load(f)\n",
    "# else:\n",
    "#     d2v = Doc2Vec(vector_size=50, epochs=40)\n",
    "\n",
    "#     logger.info('Loading data')\n",
    "#     d2v.load_data(training_files=d2v_training_files, testing_files=d2v_testing_files)\n",
    "\n",
    "#     logger.info('Training doc2vec')\n",
    "#     d2v.train()\n",
    "\n",
    "#     with open(d2v_pickle_name, 'wb') as f:\n",
    "#         pickle.dump(d2v, f)\n",
    "\n",
    "# # logger.info('Testing doc2vec on the training data')\n",
    "# # ranks_count, errors = d2v.test()\n",
    "# # logger.info(ranks_count)\n",
    "\n",
    "# use_embeddings_pickle = False\n",
    "# embeddings_pickle_name = 'doc2vec_embeddings.pkl'\n",
    "\n",
    "# if use_embeddings_pickle and os.path.isfile(embeddings_pickle_name):\n",
    "#     logger.info('Loading pickled embeddings')\n",
    "#     with open(embeddings_pickle_name, 'rb') as f:\n",
    "#         embeddings = pickle.load(f)\n",
    "# else:\n",
    "#     logger.info('Obtaining embeddings')\n",
    "#     embeddings = d2v.generate_embeddings(\n",
    "#         training_pos_files=training_pos_files,\n",
    "#         training_neg_files=training_neg_files,\n",
    "#         testing_pos_files=testing_pos_files,\n",
    "#         testing_neg_files=testing_neg_files\n",
    "#     )\n",
    "\n",
    "#     with open(embeddings_pickle_name, 'wb') as f:\n",
    "#         pickle.dump(embeddings, f)"
   ]
  },
  {
   "cell_type": "code",
   "execution_count": 110,
   "metadata": {},
   "outputs": [],
   "source": [
    "# X_train = np.array([\n",
    "#     *embeddings[TRAINING_DATA][SENTIMENTS.pos.review_label],\n",
    "#     *embeddings[TRAINING_DATA][SENTIMENTS.neg.review_label]\n",
    "# ])\n",
    "# X_test = np.array([\n",
    "#     *embeddings[TESTING_DATA][SENTIMENTS.pos.review_label],\n",
    "#     *embeddings[TESTING_DATA][SENTIMENTS.neg.review_label]\n",
    "# ])"
   ]
  },
  {
   "cell_type": "markdown",
   "metadata": {},
   "source": [
    "## Lexicon Data"
   ]
  },
  {
   "cell_type": "code",
   "execution_count": null,
   "metadata": {},
   "outputs": [],
   "source": [
    "lexicon_dict = {}\n",
    "with open('data/sent_lexicon', 'r') as f:\n",
    "    for line in f:\n",
    "        word = line.split()[2].split(\"=\")[1]\n",
    "        polarity = line.split()[5].split(\"=\")[1]\n",
    "        magnitude = line.split()[0].split(\"=\")[1]\n",
    "        lexicon_dict[word] = [magnitude, polarity]\n",
    "lexicon_pos_words = [w for w,t in lexicon_dict.items() if t[1] == 'positive' and t[0] == 'strongsubj' and w in gensim_sklearn.pipeline.named_steps['doc2vec'].model.wv]\n",
    "lexicon_neg_words = [w for w,t in lexicon_dict.items() if t[1] == 'negative' and t[0] == 'strongsubj' and w in gensim_sklearn.pipeline.named_steps['doc2vec'].model.wv]\n",
    "# lexicon_pos_words = [w for w,t in lexicon_dict.items() if t[1] == 'positive' and w in gensim_sklearn.pipeline.named_steps['doc2vec'].model.wv]\n",
    "# lexicon_neg_words = [w for w,t in lexicon_dict.items() if t[1] == 'negative' and w in gensim_sklearn.pipeline.named_steps['doc2vec'].model.wv]\n",
    "\n",
    "good_words = ['good', *[i[0] for i in gensim_sklearn.pipeline.named_steps['doc2vec'].model.wv.most_similar('good')]]\n",
    "bad_words = ['bad', *[i[0] for i in gensim_sklearn.pipeline.named_steps['doc2vec'].model.wv.most_similar('bad')]]\n",
    "\n",
    "wonderful_words = ['wonderful', *[i[0] for i in gensim_sklearn.pipeline.named_steps['doc2vec'].model.wv.most_similar('wonderful')]]\n",
    "awful_words = ['awful', *[i[0] for i in gensim_sklearn.pipeline.named_steps['doc2vec'].model.wv.most_similar('awful')]]"
   ]
  },
  {
   "cell_type": "code",
   "execution_count": null,
   "metadata": {},
   "outputs": [],
   "source": [
    "# General positive and negative indices\n",
    "pos_inds = np.where(np.isin(labels,lexicon_pos_words))\n",
    "neg_inds = np.where(np.isin(labels,lexicon_neg_words))\n",
    "\n",
    "# Weakly positive and negative words\n",
    "good_inds = np.where(np.isin(labels, good_words))[0]\n",
    "bad_inds = np.where(np.isin(labels, bad_words))[0]\n",
    "\n",
    "# Strongly positive and negative words\n",
    "wonderful_inds = np.where(np.isin(labels, wonderful_words))[0]\n",
    "awful_inds = np.where(np.isin(labels, awful_words))[0]"
   ]
  },
  {
   "cell_type": "code",
   "execution_count": null,
   "metadata": {},
   "outputs": [],
   "source": [
    "lexicon_pos_word_embeddings = np.array([gensim_sklearn.pipeline.named_steps['doc2vec'].model.wv[w] for w in lexicon_pos_words])\n",
    "lexicon_neg_word_embeddings = np.array([gensim_sklearn.pipeline.named_steps['doc2vec'].model.wv[w] for w in lexicon_neg_words])\n",
    "\n",
    "good_word_embeddings = np.array([gensim_sklearn.pipeline.named_steps['doc2vec'].model.wv[w] for w in good_words])\n",
    "bad_word_embeddings = np.array([gensim_sklearn.pipeline.named_steps['doc2vec'].model.wv[w] for w in bad_words])\n",
    "\n",
    "wonderful_word_embeddings = np.array([gensim_sklearn.pipeline.named_steps['doc2vec'].model.wv[w] for w in wonderful_words])\n",
    "awful_word_embeddings = np.array([gensim_sklearn.pipeline.named_steps['doc2vec'].model.wv[w] for w in awful_words])"
   ]
  },
  {
   "cell_type": "markdown",
   "metadata": {},
   "source": [
    "# Visualisations"
   ]
  },
  {
   "cell_type": "markdown",
   "metadata": {},
   "source": [
    "## Gensim Instructions"
   ]
  },
  {
   "cell_type": "code",
   "execution_count": 17,
   "metadata": {},
   "outputs": [
    {
     "name": "stderr",
     "output_type": "stream",
     "text": [
      "/Users/alanclark/.pyenv/versions/3.8.11/envs/mlmi13/lib/python3.8/site-packages/sklearn/manifold/_t_sne.py:780: FutureWarning: The default initialization in TSNE will change from 'random' to 'pca' in 1.2.\n",
      "  warnings.warn(\n",
      "/Users/alanclark/.pyenv/versions/3.8.11/envs/mlmi13/lib/python3.8/site-packages/sklearn/manifold/_t_sne.py:790: FutureWarning: The default learning rate in TSNE will change from 200.0 to 'auto' in 1.2.\n",
      "  warnings.warn(\n"
     ]
    }
   ],
   "source": [
    "def reduce_dimensions(model):\n",
    "    num_dimensions = 2  # final num dimensions (2D, 3D, etc)\n",
    "\n",
    "    # extract the words & their vectors, as numpy arrays\n",
    "    vectors = np.asarray(model.wv.vectors)\n",
    "    labels = np.asarray(model.wv.index_to_key)  # fixed-width numpy strings\n",
    "\n",
    "    # reduce using t-SNE\n",
    "    tsne = TSNE(n_components=num_dimensions, random_state=0)\n",
    "    vectors = tsne.fit_transform(vectors)\n",
    "\n",
    "    x_vals = [v[0] for v in vectors]\n",
    "    y_vals = [v[1] for v in vectors]\n",
    "    return x_vals, y_vals, labels\n",
    "\n",
    "\n",
    "x_vals, y_vals, labels = reduce_dimensions(gensim_sklearn.pipeline.named_steps['doc2vec'].model)\n",
    "x_vals = np.array(x_vals)\n",
    "y_vals = np.array(y_vals)"
   ]
  },
  {
   "cell_type": "code",
   "execution_count": 18,
   "metadata": {},
   "outputs": [],
   "source": [
    "def plot_with_plotly(x_vals, y_vals, labels, plot_in_notebook=True):\n",
    "    from plotly.offline import init_notebook_mode, iplot, plot\n",
    "    import plotly.graph_objs as go\n",
    "\n",
    "    trace = go.Scatter(x=x_vals, y=y_vals, mode='text', text=labels)\n",
    "    data = [trace]\n",
    "\n",
    "    if plot_in_notebook:\n",
    "        init_notebook_mode(connected=True)\n",
    "        iplot(data, filename='word-embedding-plot')\n",
    "    else:\n",
    "        plot(data, filename='word-embedding-plot.html')\n",
    "\n",
    "\n",
    "def plot_with_matplotlib(x_vals, y_vals, labels):\n",
    "    import matplotlib.pyplot as plt\n",
    "    import random\n",
    "\n",
    "    random.seed(0)\n",
    "\n",
    "    plt.figure(figsize=(12, 12))\n",
    "    plt.scatter(x_vals, y_vals)\n",
    "\n",
    "    #\n",
    "    # Label randomly subsampled 25 data points\n",
    "    #\n",
    "    indices = list(range(len(labels)))\n",
    "    selected_indices = random.sample(indices, 25)\n",
    "    for i in selected_indices:\n",
    "        plt.annotate(labels[i], (x_vals[i], y_vals[i]))"
   ]
  },
  {
   "cell_type": "code",
   "execution_count": 19,
   "metadata": {},
   "outputs": [],
   "source": [
    "# plot_with_plotly(x_vals, y_vals, labels)"
   ]
  },
  {
   "cell_type": "code",
   "execution_count": 20,
   "metadata": {},
   "outputs": [],
   "source": [
    "# plot_with_matplotlib(x_vals, y_vals, labels)"
   ]
  },
  {
   "cell_type": "code",
   "execution_count": 57,
   "metadata": {},
   "outputs": [
    {
     "data": {
      "text/plain": [
       "<matplotlib.legend.Legend at 0x163c11070>"
      ]
     },
     "execution_count": 57,
     "metadata": {},
     "output_type": "execute_result"
    },
    {
     "data": {
      "image/png": "[encoded data removed]",
      "text/plain": [
       "<Figure size 720x720 with 1 Axes>"
      ]
     },
     "metadata": {
      "needs_background": "light"
     },
     "output_type": "display_data"
    }
   ],
   "source": [
    "fig, ax = plt.subplots(1, figsize=(10,10))\n",
    "plt.scatter(x_vals[pos_inds], y_vals[pos_inds], marker='+', c='g', label='Positive')\n",
    "plt.scatter(x_vals[neg_inds], y_vals[neg_inds], marker='+', c='r', label='Negative')\n",
    "plt.legend()"
   ]
  },
  {
   "cell_type": "code",
   "execution_count": 58,
   "metadata": {},
   "outputs": [
    {
     "data": {
      "text/plain": [
       "<matplotlib.legend.Legend at 0x163d8af40>"
      ]
     },
     "execution_count": 58,
     "metadata": {},
     "output_type": "execute_result"
    },
    {
     "data": {
      "image/png": "[encoded data removed]",
      "text/plain": [
       "<Figure size 2160x720 with 3 Axes>"
      ]
     },
     "metadata": {
      "needs_background": "light"
     },
     "output_type": "display_data"
    }
   ],
   "source": [
    "fig, ax = plt.subplots(1, 3, figsize=(30,10))\n",
    "\n",
    "ax[0].scatter(x_vals[wonderful_inds], y_vals[wonderful_inds], marker='+', c='b', label='Wonderful')\n",
    "ax[0].scatter(x_vals[awful_inds], y_vals[awful_inds], marker='+', c='orange', label='Awful')\n",
    "ax[0].scatter(x_vals[good_inds], y_vals[good_inds], marker='+', c='g', label='Good')\n",
    "ax[0].scatter(x_vals[bad_inds], y_vals[bad_inds], marker='+', c='r', label='Bad')\n",
    "ax[0].set_xlabel('Dimension 1')\n",
    "ax[0].set_ylabel('Dimension 2')\n",
    "ax[0].legend(loc='upper left')\n",
    "for w in ['wonderful', 'awful', 'good', 'bad']:\n",
    "    label_ind = np.where(labels == w)[0]\n",
    "    ax[0].annotate(labels[label_ind][0], (x_vals[label_ind], y_vals[label_ind]))\n",
    "\n",
    "ax[1].scatter(x_vals[good_inds], y_vals[good_inds], marker='+', c='g', label='Good')\n",
    "ax[1].scatter(x_vals[bad_inds], y_vals[bad_inds], marker='+', c='r', label='Bad')\n",
    "for i in good_inds:\n",
    "    if not i % 2:\n",
    "        continue\n",
    "    ax[1].annotate(labels[i], (x_vals[i], y_vals[i]))\n",
    "for i in bad_inds:\n",
    "    if not i % 2:\n",
    "        continue\n",
    "    ax[1].annotate(labels[i], (x_vals[i], y_vals[i]))\n",
    "ax[1].set_xlabel('Dimension 1')\n",
    "ax[1].set_ylabel('Dimension 2')\n",
    "ax[1].legend(loc='upper left')\n",
    "\n",
    "ax[2].scatter(x_vals[wonderful_inds], y_vals[wonderful_inds], marker='+', c='g', label='Wonderful')\n",
    "ax[2].scatter(x_vals[awful_inds], y_vals[awful_inds], marker='+', c='r', label='Awful')\n",
    "for i in wonderful_inds:\n",
    "    if i % 2:\n",
    "        continue\n",
    "    ax[2].annotate(labels[i], (x_vals[i], y_vals[i]))\n",
    "for i in awful_inds:\n",
    "    if i % 2:\n",
    "        continue\n",
    "    ax[2].annotate(labels[i], (x_vals[i], y_vals[i]))\n",
    "ax[2].set_xlabel('Dimension 1')\n",
    "ax[2].set_ylabel('Dimension 2')\n",
    "ax[2].legend(loc='upper left')"
   ]
  },
  {
   "cell_type": "markdown",
   "metadata": {},
   "source": [
    "## Get Word Embeddings"
   ]
  },
  {
   "cell_type": "code",
   "execution_count": 36,
   "metadata": {},
   "outputs": [
    {
     "data": {
      "text/plain": [
       "((37330, 50), (37330,))"
      ]
     },
     "execution_count": 36,
     "metadata": {},
     "output_type": "execute_result"
    }
   ],
   "source": [
    "gensim_vectors = np.asarray(gensim_sklearn.pipeline.named_steps['doc2vec'].model.wv.vectors)\n",
    "gensim_labels = np.asarray(gensim_sklearn.pipeline.named_steps['doc2vec'].model.wv.index_to_key)\n",
    "gensim_vectors.shape, gensim_labels.shape"
   ]
  },
  {
   "cell_type": "code",
   "execution_count": 37,
   "metadata": {},
   "outputs": [],
   "source": [
    "# gensim_word_embeddings = gensim_sklearn.pipeline.named_steps['doc2vec'].model[gensim_sklearn.pipeline.named_steps['doc2vec'].model.wv.key_to_index.keys()]"
   ]
  },
  {
   "cell_type": "code",
   "execution_count": 38,
   "metadata": {},
   "outputs": [],
   "source": [
    "# gensim_sklearn.pipeline.named_steps['doc2vec'].model.wv.save_word2vec_format('gensim_word_embeddings.gensim')"
   ]
  },
  {
   "cell_type": "code",
   "execution_count": 39,
   "metadata": {},
   "outputs": [],
   "source": [
    "# !python -m gensim.scripts.word2vec2tensor -i gensim_word_embeddings.gensim -o gensim_word_embeddings.tsv"
   ]
  },
  {
   "cell_type": "code",
   "execution_count": 40,
   "metadata": {},
   "outputs": [
    {
     "data": {
      "text/plain": [
       "[('fantastic', 0.8493165969848633),\n",
       " ('great', 0.8299423456192017),\n",
       " ('fabulous', 0.8122603893280029),\n",
       " ('brilliant', 0.8109297752380371),\n",
       " ('excellent', 0.80978924036026),\n",
       " ('superb', 0.7996698617935181),\n",
       " ('marvelous', 0.7967516779899597),\n",
       " ('splendid', 0.7888113260269165),\n",
       " ('amazing', 0.7810909748077393),\n",
       " ('outstanding', 0.7795936465263367)]"
      ]
     },
     "execution_count": 40,
     "metadata": {},
     "output_type": "execute_result"
    }
   ],
   "source": [
    "gensim_sklearn.pipeline.named_steps['doc2vec'].model.wv.most_similar('wonderful')"
   ]
  },
  {
   "cell_type": "markdown",
   "metadata": {},
   "source": [
    "## PCA"
   ]
  },
  {
   "cell_type": "code",
   "execution_count": 59,
   "metadata": {},
   "outputs": [
    {
     "data": {
      "text/plain": [
       "(array([0.03815994, 0.03271708], dtype=float32),\n",
       " array([0.03816257, 0.03271521, 0.03009729], dtype=float32))"
      ]
     },
     "execution_count": 59,
     "metadata": {},
     "output_type": "execute_result"
    }
   ],
   "source": [
    "pca_embeddings = gensim_vectors\n",
    "# pca_embeddings = np.vstack((lexicon_pos_word_embeddings, lexicon_neg_word_embeddings))\n",
    "\n",
    "pca_2 = PCA(n_components=2)\n",
    "pca_embeds_2d = pca_2.fit(pca_embeddings)\n",
    "\n",
    "pca_3 = PCA(n_components=3)\n",
    "pca_embeds_3d = pca_3.fit(pca_embeddings)\n",
    "\n",
    "pca_embeds_2d.explained_variance_ratio_, pca_embeds_3d.explained_variance_ratio_"
   ]
  },
  {
   "cell_type": "markdown",
   "metadata": {},
   "source": [
    "### Lexicon Vis"
   ]
  },
  {
   "cell_type": "code",
   "execution_count": 60,
   "metadata": {},
   "outputs": [],
   "source": [
    "lexicon_pos_words_pca = pca_embeds_2d.transform(lexicon_pos_word_embeddings)\n",
    "lexicon_neg_words_pca = pca_embeds_2d.transform(lexicon_neg_word_embeddings)\n",
    "\n",
    "good_words_pca = pca_embeds_2d.transform(good_word_embeddings)\n",
    "bad_words_pca = pca_embeds_2d.transform(bad_word_embeddings)\n",
    "\n",
    "wonderful_words_pca = pca_embeds_2d.transform(wonderful_word_embeddings)\n",
    "awful_words_pca = pca_embeds_2d.transform(awful_word_embeddings)"
   ]
  },
  {
   "cell_type": "code",
   "execution_count": 155,
   "metadata": {},
   "outputs": [
    {
     "data": {
      "text/plain": [
       "<matplotlib.legend.Legend at 0x1655e8be0>"
      ]
     },
     "execution_count": 155,
     "metadata": {},
     "output_type": "execute_result"
    },
    {
     "data": {
      "image/png": "[encoded data removed]",
      "text/plain": [
       "<Figure size 432x288 with 1 Axes>"
      ]
     },
     "metadata": {
      "needs_background": "light"
     },
     "output_type": "display_data"
    }
   ],
   "source": [
    "for embed_tuple in [('neg', lexicon_neg_words_pca), ('pos', lexicon_pos_words_pca)]:\n",
    "    label, embeds = embed_tuple\n",
    "    plt.scatter(embeds[:,0], embeds[:,1], marker='x', label=label, c='green' if label == 'pos' else 'red')\n",
    "plt.legend()"
   ]
  },
  {
   "cell_type": "code",
   "execution_count": 64,
   "metadata": {},
   "outputs": [
    {
     "data": {
      "text/plain": [
       "<matplotlib.legend.Legend at 0x163e5f2e0>"
      ]
     },
     "execution_count": 64,
     "metadata": {},
     "output_type": "execute_result"
    },
    {
     "data": {
      "image/png": "[encoded data removed]",
      "text/plain": [
       "<Figure size 720x720 with 1 Axes>"
      ]
     },
     "metadata": {
      "needs_background": "light"
     },
     "output_type": "display_data"
    }
   ],
   "source": [
    "fig, ax = plt.subplots(1, figsize=(10,10))\n",
    "for embed_tuple in [('Good', good_words_pca), ('Bad', bad_words_pca), ('Wonderful', wonderful_words_pca), ('Awful', awful_words_pca)]:\n",
    "    label, embeds = embed_tuple\n",
    "    ax.scatter(embeds[:,0], embeds[:,1], marker='x', label=label)\n",
    "ax.legend()"
   ]
  },
  {
   "cell_type": "code",
   "execution_count": 152,
   "metadata": {},
   "outputs": [
    {
     "data": {
      "text/plain": [
       "<matplotlib.legend.Legend at 0x1659a4bb0>"
      ]
     },
     "execution_count": 152,
     "metadata": {},
     "output_type": "execute_result"
    },
    {
     "data": {
      "image/png": "[encoded data removed]",
      "text/plain": [
       "<Figure size 2160x720 with 3 Axes>"
      ]
     },
     "metadata": {
      "needs_background": "light"
     },
     "output_type": "display_data"
    }
   ],
   "source": [
    "fig, ax = plt.subplots(1, 3, figsize=(30,10))\n",
    "\n",
    "ax[0].scatter(wonderful_words_pca[:,0], wonderful_words_pca[:,1], marker='+', c='b', label='Wonderful')\n",
    "ax[0].scatter(awful_words_pca[:,0], awful_words_pca[:,1], marker='+', c='orange', label='Awful')\n",
    "ax[0].scatter(good_words_pca[:,0], good_words_pca[:,1], marker='+', c='g', label='Good')\n",
    "ax[0].scatter(bad_words_pca[:,0], bad_words_pca[:,1], marker='+', c='r', label='Bad')\n",
    "ax[0].set_xlabel('Dimension 1')\n",
    "ax[0].set_ylabel('Dimension 2')\n",
    "ax[0].legend(loc='upper left')\n",
    "for w in ['wonderful', 'awful', 'good', 'bad']:\n",
    "    label_ind = np.where(labels == w)[0]\n",
    "    ax[0].annotate(labels[label_ind][0], (x_vals[label_ind], y_vals[label_ind]))\n",
    "\n",
    "ax[1].scatter(good_words_pca[:,0], good_words_pca[:,1], marker='+', c='g', label='Good')\n",
    "ax[1].scatter(bad_words_pca[:,0], bad_words_pca[:,1], marker='+', c='r', label='Bad')\n",
    "for i in good_inds:\n",
    "    if not i % 2:\n",
    "        continue\n",
    "    ax[1].annotate(labels[i], (x_vals[i], y_vals[i]))\n",
    "for i in bad_inds:\n",
    "    if not i % 2:\n",
    "        continue\n",
    "    ax[1].annotate(labels[i], (x_vals[i], y_vals[i]))\n",
    "ax[1].set_xlabel('Dimension 1')\n",
    "ax[1].set_ylabel('Dimension 2')\n",
    "ax[1].legend(loc='upper left')\n",
    "\n",
    "ax[2].scatter(wonderful_words_pca[:,0], wonderful_words_pca[:,1], marker='+', c='g', label='Wonderful')\n",
    "ax[2].scatter(awful_words_pca[:,0], awful_words_pca[:,1], marker='+', c='r', label='Awful')\n",
    "for i in wonderful_inds:\n",
    "    if i % 2:\n",
    "        continue\n",
    "    ax[2].annotate(labels[i], (x_vals[i], y_vals[i]))\n",
    "for i in awful_inds:\n",
    "    if i % 2:\n",
    "        continue\n",
    "    ax[2].annotate(labels[i], (x_vals[i], y_vals[i]))\n",
    "ax[2].set_xlabel('Dimension 1')\n",
    "ax[2].set_ylabel('Dimension 2')\n",
    "ax[2].legend(loc='upper left')"
   ]
  },
  {
   "cell_type": "code",
   "execution_count": 153,
   "metadata": {},
   "outputs": [
    {
     "name": "stderr",
     "output_type": "stream",
     "text": [
      "2021-12-02 20:31:00,130 : WARNING : No handles with labels found to put in legend.\n"
     ]
    },
    {
     "data": {
      "text/plain": [
       "<matplotlib.legend.Legend at 0x165a76340>"
      ]
     },
     "execution_count": 153,
     "metadata": {},
     "output_type": "execute_result"
    },
    {
     "data": {
      "image/png": "[encoded data removed]",
      "text/plain": [
       "<Figure size 720x720 with 1 Axes>"
      ]
     },
     "metadata": {
      "needs_background": "light"
     },
     "output_type": "display_data"
    }
   ],
   "source": [
    "visualisation_review_ind = 10\n",
    "imdb_review_dir = imdb_train_pos_dir\n",
    "# imdb_review_dir = imdb_train_neg_dir\n",
    "\n",
    "review_embedding = gensim_sklearn.pipeline.named_steps['doc2vec'].transform([os.path.join(imdb_review_dir,gensim_sklearn.pipeline.named_steps['doc2vec'].train_corpus[visualisation_review_ind].tags[0])])\n",
    "review_embedding_pca = pca_embeds_2d.transform(review_embedding)\n",
    "\n",
    "with open(os.path.join(imdb_review_dir,gensim_sklearn.pipeline.named_steps['doc2vec'].train_corpus[visualisation_review_ind].tags[0])) as f:\n",
    "    review_tokens = word_tokenize(f.readlines()[0])\n",
    "\n",
    "review_closest_words = [w[0] for w in gensim_sklearn.pipeline.named_steps['doc2vec'].model.wv.most_similar(review_embedding, topn=1000) if w[0] in [*lexicon_pos_words, *lexicon_neg_words]][:50]\n",
    "# review_lexicon_tokens = [w for w in review_closest_words if w in [*lexicon_pos_words, *lexicon_neg_words]]\n",
    "review_lexicon_labels = np.array([lexicon_dict[t][1] for t in review_closest_words])\n",
    "review_word_embeddings = np.array([gensim_sklearn.pipeline.named_steps['doc2vec'].model.wv[w] for w in review_closest_words])\n",
    "review_word_embeddings_pca = pca_embeds_2d.transform(review_word_embeddings)\n",
    "\n",
    "fig, ax = plt.subplots(1, figsize=(10,10))\n",
    "plt_colors = {'positive':'green', 'negative':'red', 'neutral':'blue', 'both':'yellow'}\n",
    "ax.scatter(review_embedding_pca[:,0], review_embedding_pca[:,1])\n",
    "ax.scatter(review_word_embeddings_pca[:,0], review_word_embeddings_pca[:,1], c=[plt_colors[i] for i in review_lexicon_labels])\n",
    "\n",
    "for i in range(review_word_embeddings_pca.shape[0]):\n",
    "    ax.annotate(review_closest_words[i], (review_word_embeddings_pca[i,0]+0.01, review_word_embeddings_pca[i,1]+0.01))\n",
    "\n",
    "ax.legend()"
   ]
  },
  {
   "cell_type": "code",
   "execution_count": 148,
   "metadata": {},
   "outputs": [],
   "source": [
    "# lexicon_pos_words_pca_3d = pca_embeds_3d.transform(np.array([gensim_sklearn.pipeline.named_steps['doc2vec'].model.wv[w] for w in lexicon_pos_words if w in gensim_sklearn.pipeline.named_steps['doc2vec'].model.wv]))\n",
    "# lexicon_neg_words_pca_3d = pca_embeds_3d.transform(np.array([gensim_sklearn.pipeline.named_steps['doc2vec'].model.wv[w] for w in lexicon_neg_words if w in gensim_sklearn.pipeline.named_steps['doc2vec'].model.wv]))\n",
    "\n",
    "# lexicon_pos_words_pca_df = pd.DataFrame(lexicon_pos_words_pca_3d)\n",
    "# lexicon_pos_words_pca_df['sentiment'] = 'pos'\n",
    "\n",
    "# lexicon_neg_words_pca_df = pd.DataFrame(lexicon_neg_words_pca_3d)\n",
    "# lexicon_neg_words_pca_df['sentiment'] = 'neg'\n",
    "\n",
    "# lexicon_pca_df = pd.concat((lexicon_pos_words_pca_df, lexicon_neg_words_pca_df))\n",
    "# lexicon_pca_df['size'] = 0.8\n",
    "\n",
    "# px.scatter_3d(lexicon_pca_df, x=0, y=1, z=2, color='sentiment', size='size')"
   ]
  },
  {
   "cell_type": "markdown",
   "metadata": {},
   "source": [
    "### Review Visualisation"
   ]
  },
  {
   "cell_type": "code",
   "execution_count": 149,
   "metadata": {},
   "outputs": [],
   "source": [
    "# visualisation_review_ind = 101\n",
    "# visualisation_review_words = [w for w in gensim_sklearn.pipeline.named_steps['doc2vec'].train_corpus[visualisation_review_ind].words if w in gensim_sklearn.pipeline.named_steps['doc2vec'].model.wv]\n",
    "# visualisation_review_word_embeddings = np.array([gensim_sklearn.pipeline.named_steps['doc2vec'].model.wv[w] for w in visualisation_review_words])\n",
    "# visualisation_review_embedding = gensim_sklearn.pipeline.named_steps['doc2vec'].transform([os.path.join(train_pos_dir,gensim_sklearn.pipeline.named_steps['doc2vec'].train_corpus[visualisation_review_ind].tags[0])])\n",
    "# visualisation_words = [*visualisation_review_words, 'review']\n",
    "# visualisation_sentiment = [lexicon_dict.get(w, [None, None])[1] for w in visualisation_review_words]\n",
    "# visualisation_pos_inds = [i for i,x in enumerate(visualisation_sentiment) if x == 'positive']\n",
    "# visualisation_neg_inds = [i for i,x in enumerate(visualisation_sentiment) if x == 'negative']\n",
    "# visualisation_sentiment_inds = [*visualisation_pos_inds, *visualisation_neg_inds]"
   ]
  },
  {
   "cell_type": "code",
   "execution_count": 150,
   "metadata": {},
   "outputs": [],
   "source": [
    "# visualisation_words_pca = pca_2.transform(visualisation_review_word_embeddings)\n",
    "# visualisation_review_pca = pca_2.transform(visualisation_review_embedding)"
   ]
  },
  {
   "cell_type": "code",
   "execution_count": 151,
   "metadata": {},
   "outputs": [],
   "source": [
    "# for lookup_tuple in (('pos', visualisation_pos_inds), ('neg', visualisation_neg_inds)):\n",
    "#     label, lookup_ind = lookup_tuple\n",
    "#     plt.scatter(visualisation_words_pca[lookup_ind,0], visualisation_words_pca[lookup_ind,1], marker='x', label=label)\n",
    "# plt.scatter(visualisation_review_pca[-1,0], visualisation_review_pca[-1,1], marker='x', label='review')\n",
    "# plt.legend()\n",
    "# for word_ind in visualisation_sentiment_inds:\n",
    "#     plt.text(visualisation_words_pca[word_ind,0]+0.02, visualisation_words_pca[word_ind,1]+0.02, visualisation_words[word_ind])"
   ]
  },
  {
   "cell_type": "markdown",
   "metadata": {},
   "source": [
    "### Pang et al words"
   ]
  },
  {
   "cell_type": "code",
   "execution_count": null,
   "metadata": {},
   "outputs": [],
   "source": [
    "gensim_sklearn = GensimSVMSklearn(\n",
    "    d2v_training_files=d2v_training_files,\n",
    "    d2v_epochs=100,\n",
    "    d2v_infer_epochs=50,\n",
    "    d2v_min_count=5,\n",
    "    d2v_vector_size=50,\n",
    "    d2v_window=5,\n",
    "    d2v_dm=0,\n",
    "    d2v_dm_concat=0,\n",
    "    d2v_dbow_words=1\n",
    ")"
   ]
  },
  {
   "cell_type": "code",
   "execution_count": null,
   "metadata": {},
   "outputs": [],
   "source": [
    "pang_positive_words = 'love wonderful best great superb still beautiful'.split()\n",
    "pang_negative_words = 'bad worst stupid waste boring terrible awful'.split()"
   ]
  },
  {
   "cell_type": "code",
   "execution_count": null,
   "metadata": {},
   "outputs": [],
   "source": [
    "pang_positive_word_embeddings = np.array([gensim_sklearn.pipeline.named_steps['doc2vec'].model.wv[w] for w in pang_positive_words])\n",
    "pang_negative_word_embeddings = np.array([gensim_sklearn.pipeline.named_steps['doc2vec'].model.wv[w] for w in pang_negative_words])\n",
    "pang_positive_word_embeddings.shape, pang_negative_word_embeddings.shape"
   ]
  },
  {
   "cell_type": "code",
   "execution_count": null,
   "metadata": {},
   "outputs": [],
   "source": [
    "pang_positive_word_pca = pca_2.transform(pang_positive_word_embeddings)\n",
    "pang_negative_word_pca = pca_2.transform(pang_negative_word_embeddings)"
   ]
  },
  {
   "cell_type": "code",
   "execution_count": null,
   "metadata": {},
   "outputs": [],
   "source": [
    "pos_doc_ind = 10\n",
    "neg_doc_ind = 10\n",
    "pos_doc_pca = pca_2.transform(training_pos_embeddings[pos_doc_ind,:][None,:])[0]\n",
    "neg_doc_pca = pca_2.transform(training_neg_embeddings[neg_doc_ind,:][None,:])[0]"
   ]
  },
  {
   "cell_type": "code",
   "execution_count": null,
   "metadata": {},
   "outputs": [],
   "source": [
    "plt.scatter(pang_positive_word_pca[:,0], pang_positive_word_pca[:,1], marker='x', label='pos')\n",
    "plt.scatter(pang_negative_word_pca[:,0], pang_negative_word_pca[:,1], marker='x', label='neg')\n",
    "plt.scatter(pos_doc_pca[0], pos_doc_pca[1], marker='x', label='pos_doc')\n",
    "plt.scatter(neg_doc_pca[0], neg_doc_pca[1], marker='x', label='neg_doc')\n",
    "plt.legend()\n",
    "for word, (x,y) in zip([*pang_positive_words, *pang_negative_words], np.vstack((pang_positive_word_pca, pang_negative_word_pca))):\n",
    "    plt.text(x+0.05, y+0.05, word)"
   ]
  },
  {
   "cell_type": "markdown",
   "metadata": {},
   "source": [
    "## TSNE"
   ]
  },
  {
   "cell_type": "code",
   "execution_count": null,
   "metadata": {},
   "outputs": [],
   "source": [
    "logger.info('Training T-SNE model')\n",
    "\n",
    "tsne = TSNE(n_components=2, verbose=3, n_jobs=-1)\n",
    "# tsne = TSNE(n_components=2, early_exaggeration=12.0, learning_rate='auto', init='random', verbose=3)\n",
    "\n",
    "tsne_results = tsne.fit_transform(gensim_word_embeddings)\n",
    "\n",
    "# Dataframe construction\n",
    "tsne_df = pd.DataFrame({\n",
    "    'tsne-one': tsne_results[:,0],\n",
    "    'tsne-two': tsne_results[:,1],\n",
    "    # 'tsne-three': tsne_results[:,2],\n",
    "    'word': tsne_words\n",
    "})\n",
    "tsne_df.head()\n"
   ]
  },
  {
   "cell_type": "code",
   "execution_count": null,
   "metadata": {},
   "outputs": [],
   "source": [
    "tsne_lexicon_df = tsne_df.copy().loc[tsne_df['word'].isin(lexicon_dict)]\n",
    "tsne_lexicon_df['lexicon'] = tsne_lexicon_df['word'].map(lexicon_dict)\n",
    "tsne_lexicon_df[['magnitude','sentiment']] = pd.DataFrame(tsne_lexicon_df['lexicon'].tolist(), index=tsne_lexicon_df.index)\n",
    "tsne_lexicon_df = pd.concat((tsne_lexicon_df, tsne_df.copy().loc[tsne_df['word'] == 'review']))\n",
    "tsne_lexicon_df.loc[tsne_lexicon_df['word'] == 'review', 'sentiment'] = 'review'"
   ]
  },
  {
   "cell_type": "code",
   "execution_count": null,
   "metadata": {},
   "outputs": [],
   "source": [
    "px.scatter(tsne_lexicon_df , x='tsne-one', y='tsne-two', color='sentiment', hover_name='word')"
   ]
  },
  {
   "cell_type": "code",
   "execution_count": null,
   "metadata": {},
   "outputs": [],
   "source": [
    "tsne_pang_df = tsne_df.copy()[tsne_df['word'].isin([*pang_positive_words, *pang_negative_words])]\n",
    "tsne_pang_df.loc[tsne_pang_df['word'].isin(pang_positive_words), 'sentiment'] = 'pos'\n",
    "tsne_pang_df.loc[tsne_pang_df['word'].isin(pang_negative_words), 'sentiment'] = 'neg'\n",
    "tsne_pang_df"
   ]
  },
  {
   "cell_type": "code",
   "execution_count": null,
   "metadata": {},
   "outputs": [],
   "source": [
    "px.scatter(tsne_pang_df , x='tsne-one', y='tsne-two', color='sentiment', hover_name='word')"
   ]
  },
  {
   "cell_type": "code",
   "execution_count": null,
   "metadata": {},
   "outputs": [],
   "source": [
    "# px.scatter_3d(tsne_df, x='tsne-3d-one', y='tsne-3d-two', z='tsne-3d-three', color='y', size='size')"
   ]
  },
  {
   "cell_type": "code",
   "execution_count": null,
   "metadata": {},
   "outputs": [],
   "source": [
    "plt.figure(figsize=(16,10))\n",
    "sns.scatterplot(\n",
    "    x=\"tsne-one\", y=\"tsne-two\",\n",
    "    hue=\"sentiment\",\n",
    "    # palette=sns.color_palette(\"hls\", 10),\n",
    "    data=tsne_pang_df,\n",
    "    legend=\"full\",\n",
    "    alpha=0.3\n",
    ")"
   ]
  },
  {
   "cell_type": "code",
   "execution_count": null,
   "metadata": {},
   "outputs": [],
   "source": [
    "np.hstack((y_train, y_test))"
   ]
  },
  {
   "cell_type": "code",
   "execution_count": null,
   "metadata": {},
   "outputs": [],
   "source": []
  }
 ],
 "metadata": {
  "interpreter": {
   "hash": "c0fa47442b815d01bf03fa5e1a4dae12be90d6f5e4d1707ce225297341a1eb48"
  },
  "kernelspec": {
   "display_name": "Python 3.8.11 64-bit ('mlmi13': pyenv)",
   "language": "python",
   "name": "python3"
  },
  "language_info": {
   "codemirror_mode": {
    "name": "ipython",
    "version": 3
   },
   "file_extension": ".py",
   "mimetype": "text/x-python",
   "name": "python",
   "nbconvert_exporter": "python",
   "pygments_lexer": "ipython3",
   "version": "3.8.11"
  },
  "orig_nbformat": 4
 },
 "nbformat": 4,
 "nbformat_minor": 2
}
