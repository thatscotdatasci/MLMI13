{
 "cells": [
  {
   "cell_type": "code",
   "execution_count": 78,
   "id": "4534a8df-c52f-4805-a3d8-a244c437d29f",
   "metadata": {},
   "outputs": [
    {
     "ename": "ImportError",
     "evalue": "cannot import name 'REVIEWS_IGNORE_TAGS' from 'Constants' (/Volumes/GoogleDrive/My Drive/Cambridge University/MLMI/Course/L90 - Natural Language Processing/MLMI13/Constants.py)",
     "output_type": "error",
     "traceback": [
      "\u001b[0;31m---------------------------------------------------------------------------\u001b[0m",
      "\u001b[0;31mImportError\u001b[0m                               Traceback (most recent call last)",
      "\u001b[0;32m/var/folders/zt/cv6w6v8929v411zr3j934rsr0000gn/T/ipykernel_18077/2662430559.py\u001b[0m in \u001b[0;36m<module>\u001b[0;34m\u001b[0m\n\u001b[0;32m----> 1\u001b[0;31m \u001b[0;32mfrom\u001b[0m \u001b[0mConstants\u001b[0m \u001b[0;32mimport\u001b[0m \u001b[0mREVIEWS_BASEDIR\u001b[0m\u001b[0;34m,\u001b[0m \u001b[0mSENTIMENTS\u001b[0m\u001b[0;34m,\u001b[0m \u001b[0mREVIEWS_IGNORE_TAGS\u001b[0m\u001b[0;34m\u001b[0m\u001b[0;34m\u001b[0m\u001b[0m\n\u001b[0m\u001b[1;32m      2\u001b[0m \u001b[0;32mfrom\u001b[0m \u001b[0mCorpora\u001b[0m \u001b[0;32mimport\u001b[0m \u001b[0mMovieReviewCorpus\u001b[0m\u001b[0;34m\u001b[0m\u001b[0;34m\u001b[0m\u001b[0m\n\u001b[1;32m      3\u001b[0m \u001b[0;34m\u001b[0m\u001b[0m\n\u001b[1;32m      4\u001b[0m \u001b[0;32mimport\u001b[0m \u001b[0mos\u001b[0m\u001b[0;34m\u001b[0m\u001b[0;34m\u001b[0m\u001b[0m\n\u001b[1;32m      5\u001b[0m \u001b[0;32mfrom\u001b[0m \u001b[0mnltk\u001b[0m\u001b[0;34m.\u001b[0m\u001b[0mstem\u001b[0m\u001b[0;34m.\u001b[0m\u001b[0mporter\u001b[0m \u001b[0;32mimport\u001b[0m \u001b[0mPorterStemmer\u001b[0m\u001b[0;34m\u001b[0m\u001b[0;34m\u001b[0m\u001b[0m\n",
      "\u001b[0;31mImportError\u001b[0m: cannot import name 'REVIEWS_IGNORE_TAGS' from 'Constants' (/Volumes/GoogleDrive/My Drive/Cambridge University/MLMI/Course/L90 - Natural Language Processing/MLMI13/Constants.py)"
     ]
    }
   ],
   "source": [
    "from Constants import REVIEWS_BASEDIR, SENTIMENTS, REVIEWS_IGNORE_TAGS\n",
    "from Corpora import MovieReviewCorpus\n",
    "\n",
    "import os\n",
    "from nltk.stem.porter import PorterStemmer\n",
    "from glob import glob"
   ]
  },
  {
   "cell_type": "code",
   "execution_count": null,
   "id": "21dd5eeb-62ab-485c-9ab7-0aace920d660",
   "metadata": {},
   "outputs": [],
   "source": []
  },
  {
   "cell_type": "code",
   "execution_count": 2,
   "id": "f3cd0163-6fdf-4b84-a295-baf1f9ce1911",
   "metadata": {},
   "outputs": [
    {
     "name": "stdout",
     "output_type": "stream",
     "text": [
      "['Two teen couples go to a church party, drink and then drive. \\n', '\\n', 'They get into an accident. \\n', '\\n', 'One of the guys dies, but his girlfriend continues to see him in her life, and has nightmares. \\n', '\\n', \"What's the deal? \\n\", '\\n', 'Watch the movie and \"sorta\" find out... \\n', '\\n']\n"
     ]
    }
   ],
   "source": [
    "with open(\"data/reviews/NEG/cv000_29416.txt\") as f:\n",
    "    print(f.readlines()[:10])"
   ]
  },
  {
   "cell_type": "code",
   "execution_count": 3,
   "id": "65adf69e-8c7f-4735-8cff-ed8ad4b82885",
   "metadata": {},
   "outputs": [
    {
     "name": "stdout",
     "output_type": "stream",
     "text": [
      "['Two\\tCD\\n', 'teen\\tJJ\\n', 'couples\\tNNS\\n', 'go\\tVBP\\n', 'to\\tTO\\n', 'a\\tDT\\n', 'church\\tNN\\n', 'party\\tNN\\n', ',\\t,\\n', 'drink\\tNN\\n', 'and\\tCC\\n', 'then\\tRB\\n', 'drive\\tNN\\n', '.\\t.\\n', '\\n', 'They\\tPRP\\n', 'get\\tVBP\\n', 'into\\tIN\\n', 'an\\tDT\\n', 'accident\\tNN\\n']\n",
      "Two\tCD\n"
     ]
    }
   ],
   "source": [
    "with open(\"data/reviews/NEG/cv000_29416.tag\") as f:\n",
    "    lines = f.readlines()\n",
    "    print(lines[:20])\n",
    "    print(lines[0].strip())"
   ]
  },
  {
   "cell_type": "code",
   "execution_count": 4,
   "id": "d75afa56-ece0-48f0-ac28-1a7288ebf5a0",
   "metadata": {},
   "outputs": [],
   "source": [
    "stemmer = PorterStemmer()"
   ]
  },
  {
   "cell_type": "code",
   "execution_count": 38,
   "id": "ffded486-73da-4da5-bc46-04893812327c",
   "metadata": {},
   "outputs": [],
   "source": [
    "IGNORE_TAGS = {\"\\n\"}"
   ]
  },
  {
   "cell_type": "code",
   "execution_count": 39,
   "id": "003f6b7f-f317-4723-88f2-ee850acb4d39",
   "metadata": {},
   "outputs": [],
   "source": [
    "def process_tag(tag, stem: bool = False):\n",
    "    stripped = tag.strip()\n",
    "\n",
    "    if stripped:\n",
    "        split = stripped.split()\n",
    "        if len(split) == 2:\n",
    "            word, pos_tag = stripped.split()\n",
    "        else:\n",
    "            return False, tag\n",
    "    else:\n",
    "        # Return the non-processed tag\n",
    "        return False, tag\n",
    "    \n",
    "    if stem:\n",
    "        token = stemmer.stem(word)\n",
    "    else:\n",
    "        token = word.lower()\n",
    "    return True, (token, pos_tag)"
   ]
  },
  {
   "cell_type": "code",
   "execution_count": 58,
   "id": "116cee45-8c22-4e6b-93d6-51117a9c363e",
   "metadata": {},
   "outputs": [],
   "source": [
    "def process_file(file, stem: bool = False):\n",
    "    token_tags = []\n",
    "    rejects = []\n",
    "    with open(file) as f:\n",
    "        entries = (process_tag(l, stem=stem) for l in f.readlines() if l not in IGNORE_TAGS)\n",
    "        for e in entries:\n",
    "            success, result = e\n",
    "            if success:\n",
    "                token_tags.append(result)\n",
    "            else:\n",
    "                rejects.append(result)\n",
    "    return token_tags, rejects"
   ]
  },
  {
   "cell_type": "code",
   "execution_count": 41,
   "id": "f9becc82-d6c1-4baa-9079-fbd6e725881d",
   "metadata": {},
   "outputs": [],
   "source": [
    "token_tags, rejects = process_file(\"data/reviews/NEG/cv000_29416.tag\")"
   ]
  },
  {
   "cell_type": "code",
   "execution_count": 65,
   "id": "c90e1a5a-fa9d-4577-b463-9efcaa713333",
   "metadata": {},
   "outputs": [
    {
     "data": {
      "text/plain": [
       "'cv0'"
      ]
     },
     "execution_count": 65,
     "metadata": {},
     "output_type": "execute_result"
    }
   ],
   "source": [
    "os.path.basename(\"data/reviews/NEG/cv000_29416.tag\")[:3]"
   ]
  },
  {
   "cell_type": "code",
   "execution_count": 42,
   "id": "d2c2950f-683f-4e91-953f-a3694a7ccc16",
   "metadata": {},
   "outputs": [
    {
     "data": {
      "text/plain": [
       "[('two', 'CD'),\n",
       " ('teen', 'JJ'),\n",
       " ('coupl', 'NNS'),\n",
       " ('go', 'VBP'),\n",
       " ('to', 'TO'),\n",
       " ('a', 'DT'),\n",
       " ('church', 'NN'),\n",
       " ('parti', 'NN'),\n",
       " (',', ','),\n",
       " ('drink', 'NN')]"
      ]
     },
     "execution_count": 42,
     "metadata": {},
     "output_type": "execute_result"
    }
   ],
   "source": [
    "token_tags[:10]"
   ]
  },
  {
   "cell_type": "code",
   "execution_count": 43,
   "id": "b54f2618-63ac-4d8a-aac7-b6edd1c311eb",
   "metadata": {},
   "outputs": [
    {
     "data": {
      "text/plain": [
       "[]"
      ]
     },
     "execution_count": 43,
     "metadata": {},
     "output_type": "execute_result"
    }
   ],
   "source": [
    "rejects"
   ]
  },
  {
   "cell_type": "code",
   "execution_count": 67,
   "id": "57c30aa2-ad2e-4537-b743-6add8ae10228",
   "metadata": {},
   "outputs": [],
   "source": [
    "results = []\n",
    "rejects = []\n",
    "errored_fles = []\n",
    "\n",
    "for folder in SENTIMENTS:\n",
    "    files = glob(os.path.join(REVIEWS_BASEDIR, folder, \"*.tag\"))\n",
    "    for file in files:\n",
    "        try:\n",
    "            token_tags, rejected_tags = process_file(file, stem=True)\n",
    "            results.append((folder, token_tags))\n",
    "            if rejected_tags:\n",
    "                rejects.append((file, rejected_tags))\n",
    "        except Exception as e:\n",
    "            errored_fles.append((e, file))\n",
    "            continue"
   ]
  },
  {
   "cell_type": "code",
   "execution_count": 60,
   "id": "64a41bf4-04eb-47e7-b678-27869a1154c4",
   "metadata": {},
   "outputs": [
    {
     "data": {
      "text/plain": [
       "[]"
      ]
     },
     "execution_count": 60,
     "metadata": {},
     "output_type": "execute_result"
    }
   ],
   "source": [
    "errored_fles"
   ]
  },
  {
   "cell_type": "code",
   "execution_count": 61,
   "id": "a550d419-b6de-4180-b045-9820576c950f",
   "metadata": {},
   "outputs": [
    {
     "data": {
      "text/plain": [
       "[('data/reviews/POS/cv162_10424.tag',\n",
       "  ['<director\\xa0and\\xa0screenwriter>\\tNN\\n']),\n",
       " ('data/reviews/POS/cv265_10814.tag', ['2\\xa01/2\\tCD\\n']),\n",
       " ('data/reviews/POS/cv717_15953.tag', ['2\\xa01/2\\tCD\\n']),\n",
       " ('data/reviews/POS/cv819_9364.tag', ['3\\xa01/2\\tCD\\n']),\n",
       " ('data/reviews/POS/cv843_15544.tag', ['289\\xa0460\\xa0939\\tCD\\n']),\n",
       " ('data/reviews/NEG/cv560_18608.tag', ['33\\xa01/3\\tCD\\n'])]"
      ]
     },
     "execution_count": 61,
     "metadata": {},
     "output_type": "execute_result"
    }
   ],
   "source": [
    "rejects"
   ]
  },
  {
   "cell_type": "code",
   "execution_count": 62,
   "id": "acf1574e-5bd8-4c88-8a25-89e9a1b5d03f",
   "metadata": {},
   "outputs": [
    {
     "data": {
      "text/plain": [
       "2000"
      ]
     },
     "execution_count": 62,
     "metadata": {},
     "output_type": "execute_result"
    }
   ],
   "source": [
    "len(results)"
   ]
  },
  {
   "cell_type": "code",
   "execution_count": null,
   "id": "a25a1034-648c-459f-8159-dfe7095e1e87",
   "metadata": {},
   "outputs": [],
   "source": []
  },
  {
   "cell_type": "code",
   "execution_count": null,
   "id": "77d6fae0-3081-44ca-a43c-7850a0844f7e",
   "metadata": {},
   "outputs": [],
   "source": []
  }
 ],
 "metadata": {
  "kernelspec": {
   "display_name": "Python 3 (ipykernel)",
   "language": "python",
   "name": "python3"
  },
  "language_info": {
   "codemirror_mode": {
    "name": "ipython",
    "version": 3
   },
   "file_extension": ".py",
   "mimetype": "text/x-python",
   "name": "python",
   "nbconvert_exporter": "python",
   "pygments_lexer": "ipython3",
   "version": "3.8.11"
  }
 },
 "nbformat": 4,
 "nbformat_minor": 5
}
