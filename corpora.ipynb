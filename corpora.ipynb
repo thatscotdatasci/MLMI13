{
 "cells": [
  {
   "cell_type": "code",
   "execution_count": null,
   "id": "4534a8df-c52f-4805-a3d8-a244c437d29f",
   "metadata": {},
   "outputs": [],
   "source": [
    "from Constants import REVIEWS_BASEDIR, SENTIMENTS, POLARITIES\n",
    "import Corpora\n",
    "\n",
    "import os, importlib\n",
    "from nltk.stem.porter import PorterStemmer\n",
    "from glob import glob"
   ]
  },
  {
   "cell_type": "markdown",
   "metadata": {},
   "source": [
    "# Test Code Implementation"
   ]
  },
  {
   "cell_type": "code",
   "execution_count": null,
   "metadata": {},
   "outputs": [],
   "source": [
    "importlib.reload(Corpora)\n",
    "mrc = Corpora.MovieReviewCorpus(stemming=True, pos=True)"
   ]
  },
  {
   "cell_type": "code",
   "execution_count": null,
   "metadata": {},
   "outputs": [],
   "source": [
    "mrc.failed"
   ]
  },
  {
   "cell_type": "code",
   "execution_count": null,
   "metadata": {},
   "outputs": [],
   "source": [
    "mrc.rejects"
   ]
  },
  {
   "cell_type": "code",
   "execution_count": null,
   "metadata": {},
   "outputs": [],
   "source": [
    "mrc.folds[\"1\"][0]"
   ]
  },
  {
   "cell_type": "markdown",
   "metadata": {},
   "source": [
    "# Development Work"
   ]
  },
  {
   "cell_type": "code",
   "execution_count": null,
   "id": "f3cd0163-6fdf-4b84-a295-baf1f9ce1911",
   "metadata": {},
   "outputs": [],
   "source": [
    "with open(\"data/reviews/NEG/cv000_29416.txt\") as f:\n",
    "    print(f.readlines()[:10])"
   ]
  },
  {
   "cell_type": "code",
   "execution_count": null,
   "id": "65adf69e-8c7f-4735-8cff-ed8ad4b82885",
   "metadata": {},
   "outputs": [],
   "source": [
    "with open(\"data/reviews/NEG/cv000_29416.tag\") as f:\n",
    "    lines = f.readlines()\n",
    "    print(lines[:20])\n",
    "    print(lines[0].strip())"
   ]
  },
  {
   "cell_type": "code",
   "execution_count": null,
   "id": "d75afa56-ece0-48f0-ac28-1a7288ebf5a0",
   "metadata": {},
   "outputs": [],
   "source": [
    "stemmer = PorterStemmer()\n",
    "IGNORE_TAGS = {\"\\n\"}"
   ]
  },
  {
   "cell_type": "code",
   "execution_count": null,
   "id": "003f6b7f-f317-4723-88f2-ee850acb4d39",
   "metadata": {},
   "outputs": [],
   "source": [
    "def process_tag(tag, stem: bool = False):\n",
    "    stripped = tag.strip()\n",
    "\n",
    "    if stripped:\n",
    "        split = stripped.split()\n",
    "        if len(split) == 2:\n",
    "            word, pos_tag = stripped.split()\n",
    "        else:\n",
    "            return False, tag\n",
    "    else:\n",
    "        return False, tag\n",
    "    \n",
    "    if stem:\n",
    "        token = stemmer.stem(word)\n",
    "    else:\n",
    "        token = word.lower()\n",
    "    return True, (token, pos_tag)"
   ]
  },
  {
   "cell_type": "code",
   "execution_count": null,
   "id": "116cee45-8c22-4e6b-93d6-51117a9c363e",
   "metadata": {},
   "outputs": [],
   "source": [
    "def process_file(file, stem: bool = False):\n",
    "    token_tags = []\n",
    "    rejects = []\n",
    "    with open(file) as f:\n",
    "        entries = (process_tag(l, stem=stem) for l in f.readlines() if l not in IGNORE_TAGS)\n",
    "        for e in entries:\n",
    "            success, result = e\n",
    "            if success:\n",
    "                token_tags.append(result)\n",
    "            else:\n",
    "                rejects.append(result)\n",
    "    return token_tags, rejects"
   ]
  },
  {
   "cell_type": "code",
   "execution_count": null,
   "id": "f9becc82-d6c1-4baa-9079-fbd6e725881d",
   "metadata": {},
   "outputs": [],
   "source": [
    "token_tags, rejects = process_file(\"data/reviews/NEG/cv000_29416.tag\")"
   ]
  },
  {
   "cell_type": "code",
   "execution_count": null,
   "id": "c90e1a5a-fa9d-4577-b463-9efcaa713333",
   "metadata": {},
   "outputs": [],
   "source": [
    "os.path.basename(\"data/reviews/NEG/cv000_29416.tag\")[:3]"
   ]
  },
  {
   "cell_type": "code",
   "execution_count": null,
   "id": "d2c2950f-683f-4e91-953f-a3694a7ccc16",
   "metadata": {},
   "outputs": [],
   "source": [
    "token_tags[:10]"
   ]
  },
  {
   "cell_type": "code",
   "execution_count": null,
   "id": "b54f2618-63ac-4d8a-aac7-b6edd1c311eb",
   "metadata": {},
   "outputs": [],
   "source": [
    "rejects"
   ]
  },
  {
   "cell_type": "code",
   "execution_count": null,
   "id": "57c30aa2-ad2e-4537-b743-6add8ae10228",
   "metadata": {},
   "outputs": [],
   "source": [
    "results = []\n",
    "rejects = []\n",
    "errored_fles = []\n",
    "\n",
    "for folder in SENTIMENTS:\n",
    "    files = glob(os.path.join(REVIEWS_BASEDIR, folder, \"*.tag\"))\n",
    "    for file in files:\n",
    "        try:\n",
    "            token_tags, rejected_tags = process_file(file, stem=True)\n",
    "            results.append((folder, token_tags))\n",
    "            if rejected_tags:\n",
    "                rejects.append((file, rejected_tags))\n",
    "        except Exception as e:\n",
    "            errored_fles.append((e, file))\n",
    "            continue"
   ]
  },
  {
   "cell_type": "code",
   "execution_count": null,
   "id": "64a41bf4-04eb-47e7-b678-27869a1154c4",
   "metadata": {},
   "outputs": [],
   "source": [
    "errored_fles"
   ]
  },
  {
   "cell_type": "code",
   "execution_count": null,
   "id": "a550d419-b6de-4180-b045-9820576c950f",
   "metadata": {},
   "outputs": [],
   "source": [
    "rejects"
   ]
  },
  {
   "cell_type": "code",
   "execution_count": null,
   "id": "acf1574e-5bd8-4c88-8a25-89e9a1b5d03f",
   "metadata": {},
   "outputs": [],
   "source": [
    "len(results)"
   ]
  },
  {
   "cell_type": "code",
   "execution_count": null,
   "metadata": {},
   "outputs": [],
   "source": []
  }
 ],
 "metadata": {
  "interpreter": {
   "hash": "c0fa47442b815d01bf03fa5e1a4dae12be90d6f5e4d1707ce225297341a1eb48"
  },
  "kernelspec": {
   "display_name": "Python 3.8.11 64-bit ('mlmi13': pyenv)",
   "name": "python3"
  },
  "language_info": {
   "codemirror_mode": {
    "name": "ipython",
    "version": 3
   },
   "file_extension": ".py",
   "mimetype": "text/x-python",
   "name": "python",
   "nbconvert_exporter": "python",
   "pygments_lexer": "ipython3",
   "version": "3.8.11"
  }
 },
 "nbformat": 4,
 "nbformat_minor": 5
}
